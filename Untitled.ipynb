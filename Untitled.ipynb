{
 "cells": [
  {
   "cell_type": "code",
   "execution_count": null,
   "metadata": {
    "collapsed": false
   },
   "outputs": [],
   "source": [
    "from mpl_toolkits.mplot3d import Axes3D\n",
    "import matplotlib.pyplot as plt\n",
    "import numpy as np\n",
    "\n",
    "a = [1,2,2,3,3,3,4,4,4,4,5,5,5,5,5,5,6,6,6,6,6,7,7,7,7,8,8,8,9,9,10]\n",
    "b = [1,2,3,4,5,6,7,8,9,10]\n",
    "bins = [0, 3, 6, 9]\n",
    "\n",
    "\n",
    "c = plt.hist(a, bins=bins)\n",
    "d = plt.hist(b, bins=bins)\n",
    "\n",
    "#print c\n",
    "#print c[0] # counts\n",
    "#print c[1][:-1] # bins\n",
    "\n",
    "plt.bar(c[0], c[1][:-1])\n",
    "\n",
    "#axarr = []\n",
    "#f, axarr = plt.subplots(2)\n",
    "#axarr[0].hist(a, bins=bins)\n",
    "#axarr[1].hist(b, bins=bins)\n",
    "\n",
    "#fig = plt.figure()\n",
    "#ax = fig.add_subplot(111, projection='3d')\n",
    "#ax.bar(axarr[0], axarr[1], c)\n",
    "\n",
    "plt.show()\n",
    "\n",
    "\n",
    "\n",
    "#print len(a)\n",
    "\n",
    "\n",
    "\n",
    "#print dir(axarr[0])"
   ]
  },
  {
   "cell_type": "code",
   "execution_count": null,
   "metadata": {
    "collapsed": true
   },
   "outputs": [],
   "source": [
    "\n"
   ]
  },
  {
   "cell_type": "code",
   "execution_count": null,
   "metadata": {
    "collapsed": true
   },
   "outputs": [],
   "source": []
  },
  {
   "cell_type": "code",
   "execution_count": null,
   "metadata": {
    "collapsed": true
   },
   "outputs": [],
   "source": []
  },
  {
   "cell_type": "code",
   "execution_count": null,
   "metadata": {
    "collapsed": true
   },
   "outputs": [],
   "source": []
  }
 ],
 "metadata": {
  "kernelspec": {
   "display_name": "Python 2",
   "language": "python",
   "name": "python2"
  },
  "language_info": {
   "codemirror_mode": {
    "name": "ipython",
    "version": 2
   },
   "file_extension": ".py",
   "mimetype": "text/x-python",
   "name": "python",
   "nbconvert_exporter": "python",
   "pygments_lexer": "ipython2",
   "version": "2.7.12"
  }
 },
 "nbformat": 4,
 "nbformat_minor": 1
}
